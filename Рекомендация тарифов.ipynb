{
 "cells": [
  {
   "cell_type": "markdown",
   "metadata": {},
   "source": [
    "# Рекомендация тарифов"
   ]
  },
  {
   "cell_type": "markdown",
   "metadata": {},
   "source": [
    "В вашем распоряжении данные о поведении клиентов, которые уже перешли на эти тарифы (из проекта курса «Статистический анализ данных»). Нужно построить модель для задачи классификации, которая выберет подходящий тариф. Предобработка данных не понадобится — вы её уже сделали."
   ]
  },
  {
   "cell_type": "markdown",
   "metadata": {},
   "source": [
    "### Описание проекта\n",
    "\n",
    "\n",
    "Оператор мобильной связи «Мегалайн» выяснил: многие клиенты пользуются архивными тарифами. Они хотят построить систему, способную проанализировать поведение клиентов и предложить пользователям новый тариф: «Смарт» или «Ультра».\n",
    "В вашем распоряжении данные о поведении клиентов, которые уже перешли на эти тарифы (из проекта курса «Статистический анализ данных»). Нужно построить модель для задачи классификации, которая выберет подходящий тариф. Предобработка данных не понадобится — вы её уже сделали.\n",
    "\n",
    "\n",
    "Постройте модель с максимально большим значением accuracy. Чтобы сдать проект успешно, нужно довести долю правильных ответов по крайней мере до 0.75. Проверьте accuracy на тестовой выборке самостоятельно.\n"
   ]
  },
  {
   "cell_type": "markdown",
   "metadata": {},
   "source": [
    "## Откройте и изучите файл"
   ]
  },
  {
   "cell_type": "code",
   "execution_count": 1,
   "metadata": {},
   "outputs": [
    {
     "data": {
      "text/html": [
       "<div>\n",
       "<style scoped>\n",
       "    .dataframe tbody tr th:only-of-type {\n",
       "        vertical-align: middle;\n",
       "    }\n",
       "\n",
       "    .dataframe tbody tr th {\n",
       "        vertical-align: top;\n",
       "    }\n",
       "\n",
       "    .dataframe thead th {\n",
       "        text-align: right;\n",
       "    }\n",
       "</style>\n",
       "<table border=\"1\" class=\"dataframe\">\n",
       "  <thead>\n",
       "    <tr style=\"text-align: right;\">\n",
       "      <th></th>\n",
       "      <th>calls</th>\n",
       "      <th>minutes</th>\n",
       "      <th>messages</th>\n",
       "      <th>mb_used</th>\n",
       "      <th>is_ultra</th>\n",
       "    </tr>\n",
       "  </thead>\n",
       "  <tbody>\n",
       "    <tr>\n",
       "      <th>0</th>\n",
       "      <td>40.0</td>\n",
       "      <td>311.90</td>\n",
       "      <td>83.0</td>\n",
       "      <td>19915.42</td>\n",
       "      <td>0</td>\n",
       "    </tr>\n",
       "    <tr>\n",
       "      <th>1</th>\n",
       "      <td>85.0</td>\n",
       "      <td>516.75</td>\n",
       "      <td>56.0</td>\n",
       "      <td>22696.96</td>\n",
       "      <td>0</td>\n",
       "    </tr>\n",
       "    <tr>\n",
       "      <th>2</th>\n",
       "      <td>77.0</td>\n",
       "      <td>467.66</td>\n",
       "      <td>86.0</td>\n",
       "      <td>21060.45</td>\n",
       "      <td>0</td>\n",
       "    </tr>\n",
       "    <tr>\n",
       "      <th>3</th>\n",
       "      <td>106.0</td>\n",
       "      <td>745.53</td>\n",
       "      <td>81.0</td>\n",
       "      <td>8437.39</td>\n",
       "      <td>1</td>\n",
       "    </tr>\n",
       "    <tr>\n",
       "      <th>4</th>\n",
       "      <td>66.0</td>\n",
       "      <td>418.74</td>\n",
       "      <td>1.0</td>\n",
       "      <td>14502.75</td>\n",
       "      <td>0</td>\n",
       "    </tr>\n",
       "    <tr>\n",
       "      <th>5</th>\n",
       "      <td>58.0</td>\n",
       "      <td>344.56</td>\n",
       "      <td>21.0</td>\n",
       "      <td>15823.37</td>\n",
       "      <td>0</td>\n",
       "    </tr>\n",
       "    <tr>\n",
       "      <th>6</th>\n",
       "      <td>57.0</td>\n",
       "      <td>431.64</td>\n",
       "      <td>20.0</td>\n",
       "      <td>3738.90</td>\n",
       "      <td>1</td>\n",
       "    </tr>\n",
       "    <tr>\n",
       "      <th>7</th>\n",
       "      <td>15.0</td>\n",
       "      <td>132.40</td>\n",
       "      <td>6.0</td>\n",
       "      <td>21911.60</td>\n",
       "      <td>0</td>\n",
       "    </tr>\n",
       "    <tr>\n",
       "      <th>8</th>\n",
       "      <td>7.0</td>\n",
       "      <td>43.39</td>\n",
       "      <td>3.0</td>\n",
       "      <td>2538.67</td>\n",
       "      <td>1</td>\n",
       "    </tr>\n",
       "    <tr>\n",
       "      <th>9</th>\n",
       "      <td>90.0</td>\n",
       "      <td>665.41</td>\n",
       "      <td>38.0</td>\n",
       "      <td>17358.61</td>\n",
       "      <td>0</td>\n",
       "    </tr>\n",
       "    <tr>\n",
       "      <th>10</th>\n",
       "      <td>82.0</td>\n",
       "      <td>560.51</td>\n",
       "      <td>20.0</td>\n",
       "      <td>9619.53</td>\n",
       "      <td>1</td>\n",
       "    </tr>\n",
       "    <tr>\n",
       "      <th>11</th>\n",
       "      <td>45.0</td>\n",
       "      <td>344.32</td>\n",
       "      <td>13.0</td>\n",
       "      <td>19898.81</td>\n",
       "      <td>0</td>\n",
       "    </tr>\n",
       "    <tr>\n",
       "      <th>12</th>\n",
       "      <td>51.0</td>\n",
       "      <td>437.13</td>\n",
       "      <td>61.0</td>\n",
       "      <td>21523.58</td>\n",
       "      <td>0</td>\n",
       "    </tr>\n",
       "    <tr>\n",
       "      <th>13</th>\n",
       "      <td>56.0</td>\n",
       "      <td>433.07</td>\n",
       "      <td>16.0</td>\n",
       "      <td>16702.36</td>\n",
       "      <td>0</td>\n",
       "    </tr>\n",
       "    <tr>\n",
       "      <th>14</th>\n",
       "      <td>108.0</td>\n",
       "      <td>587.90</td>\n",
       "      <td>0.0</td>\n",
       "      <td>14406.50</td>\n",
       "      <td>1</td>\n",
       "    </tr>\n",
       "    <tr>\n",
       "      <th>15</th>\n",
       "      <td>6.0</td>\n",
       "      <td>22.13</td>\n",
       "      <td>0.0</td>\n",
       "      <td>2710.09</td>\n",
       "      <td>0</td>\n",
       "    </tr>\n",
       "    <tr>\n",
       "      <th>16</th>\n",
       "      <td>2.0</td>\n",
       "      <td>18.73</td>\n",
       "      <td>0.0</td>\n",
       "      <td>588.89</td>\n",
       "      <td>0</td>\n",
       "    </tr>\n",
       "    <tr>\n",
       "      <th>17</th>\n",
       "      <td>26.0</td>\n",
       "      <td>163.62</td>\n",
       "      <td>4.0</td>\n",
       "      <td>16870.34</td>\n",
       "      <td>0</td>\n",
       "    </tr>\n",
       "    <tr>\n",
       "      <th>18</th>\n",
       "      <td>79.0</td>\n",
       "      <td>532.62</td>\n",
       "      <td>90.0</td>\n",
       "      <td>19908.31</td>\n",
       "      <td>0</td>\n",
       "    </tr>\n",
       "    <tr>\n",
       "      <th>19</th>\n",
       "      <td>49.0</td>\n",
       "      <td>341.67</td>\n",
       "      <td>81.0</td>\n",
       "      <td>11770.28</td>\n",
       "      <td>1</td>\n",
       "    </tr>\n",
       "  </tbody>\n",
       "</table>\n",
       "</div>"
      ],
      "text/plain": [
       "    calls  minutes  messages   mb_used  is_ultra\n",
       "0    40.0   311.90      83.0  19915.42         0\n",
       "1    85.0   516.75      56.0  22696.96         0\n",
       "2    77.0   467.66      86.0  21060.45         0\n",
       "3   106.0   745.53      81.0   8437.39         1\n",
       "4    66.0   418.74       1.0  14502.75         0\n",
       "5    58.0   344.56      21.0  15823.37         0\n",
       "6    57.0   431.64      20.0   3738.90         1\n",
       "7    15.0   132.40       6.0  21911.60         0\n",
       "8     7.0    43.39       3.0   2538.67         1\n",
       "9    90.0   665.41      38.0  17358.61         0\n",
       "10   82.0   560.51      20.0   9619.53         1\n",
       "11   45.0   344.32      13.0  19898.81         0\n",
       "12   51.0   437.13      61.0  21523.58         0\n",
       "13   56.0   433.07      16.0  16702.36         0\n",
       "14  108.0   587.90       0.0  14406.50         1\n",
       "15    6.0    22.13       0.0   2710.09         0\n",
       "16    2.0    18.73       0.0    588.89         0\n",
       "17   26.0   163.62       4.0  16870.34         0\n",
       "18   79.0   532.62      90.0  19908.31         0\n",
       "19   49.0   341.67      81.0  11770.28         1"
      ]
     },
     "execution_count": 1,
     "metadata": {},
     "output_type": "execute_result"
    }
   ],
   "source": [
    "# Импортируем все необходимое для работы\n",
    "import pandas as pd\n",
    "import numpy as np\n",
    "import matplotlib.pyplot as plt\n",
    "from sklearn.model_selection import train_test_split\n",
    "from sklearn.linear_model import LogisticRegression\n",
    "from sklearn.ensemble import RandomForestClassifier\n",
    "from sklearn.tree import DecisionTreeClassifier\n",
    "from sklearn.model_selection import GridSearchCV\n",
    "from sklearn.dummy import DummyClassifier\n",
    "from sklearn.metrics import accuracy_score\n",
    "\n",
    "# Отключаем предупреждения\n",
    "import warnings\n",
    "warnings.filterwarnings('ignore')\n",
    "\n",
    "# Откроем файл и выведем первые 20 строк\n",
    "try:\n",
    "    df = pd.read_csv('//datasets/users_behavior.csv')\n",
    "except:\n",
    "    df = pd.read_csv('users_behavior.csv')\n",
    "    \n",
    "df.head(20)"
   ]
  },
  {
   "cell_type": "code",
   "execution_count": 2,
   "metadata": {},
   "outputs": [
    {
     "name": "stdout",
     "output_type": "stream",
     "text": [
      "<class 'pandas.core.frame.DataFrame'>\n",
      "RangeIndex: 3214 entries, 0 to 3213\n",
      "Data columns (total 5 columns):\n",
      " #   Column    Non-Null Count  Dtype  \n",
      "---  ------    --------------  -----  \n",
      " 0   calls     3214 non-null   float64\n",
      " 1   minutes   3214 non-null   float64\n",
      " 2   messages  3214 non-null   float64\n",
      " 3   mb_used   3214 non-null   float64\n",
      " 4   is_ultra  3214 non-null   int64  \n",
      "dtypes: float64(4), int64(1)\n",
      "memory usage: 125.7 KB\n"
     ]
    }
   ],
   "source": [
    "# Посмотрим информацию по датафрейму \n",
    "df.info()"
   ]
  },
  {
   "cell_type": "code",
   "execution_count": 22,
   "metadata": {},
   "outputs": [],
   "source": [
    "# Изменим тип данных в столбцах calls и messages на целочисленный. \n",
    "df['calls'] = df['calls'].astype('int')\n",
    "df['messages'] = df['messages'].astype('int')"
   ]
  },
  {
   "cell_type": "code",
   "execution_count": 4,
   "metadata": {},
   "outputs": [
    {
     "data": {
      "text/plain": [
       "0    0.693528\n",
       "1    0.306472\n",
       "Name: is_ultra, dtype: float64"
      ]
     },
     "execution_count": 4,
     "metadata": {},
     "output_type": "execute_result"
    }
   ],
   "source": [
    "# Посмотрим какой тариф выбирают большинство клиентов \n",
    "df['is_ultra'].value_counts(normalize=True)"
   ]
  },
  {
   "cell_type": "markdown",
   "metadata": {},
   "source": [
    "В выборке присутствует дисбаланс."
   ]
  },
  {
   "cell_type": "markdown",
   "metadata": {},
   "source": [
    "## Разбейте данные на выборки"
   ]
  },
  {
   "cell_type": "markdown",
   "metadata": {},
   "source": [
    "В нашем исследовании будем использовать модуль GridSearchCV. Он используется для автоматического подбирания параметров для модулей машинного обучения. Путем обычного перебора модуль GridSearchCV находит наилучшие параметры и создает модель для каждой возможной комбинации параметров."
   ]
  },
  {
   "cell_type": "code",
   "execution_count": 12,
   "metadata": {},
   "outputs": [],
   "source": [
    "# Разделим данные. В target целевой признак, а в features поместим оставшшиеся признаки\n",
    "features = df.drop(['is_ultra'], axis = 1)\n",
    "target = df['is_ultra']"
   ]
  },
  {
   "cell_type": "markdown",
   "metadata": {},
   "source": [
    "Используем кросс - валидацию. Она берет обучающую выборку и делит валидационную на несколько слоёв. Делим выборку на 2 части 80% и 20%.\n",
    "\n",
    "80% будут разделены на 4 обучающие части и 1 валидационную. "
   ]
  },
  {
   "cell_type": "code",
   "execution_count": 13,
   "metadata": {},
   "outputs": [],
   "source": [
    "features_train, features_test, target_train, target_test = train_test_split(\n",
    "    features, target, test_size = 0.2, random_state = 12345, stratify = target)"
   ]
  },
  {
   "cell_type": "code",
   "execution_count": 14,
   "metadata": {},
   "outputs": [
    {
     "data": {
      "text/plain": [
       "(2571, 4)"
      ]
     },
     "execution_count": 14,
     "metadata": {},
     "output_type": "execute_result"
    }
   ],
   "source": [
    "features_train.shape"
   ]
  },
  {
   "cell_type": "code",
   "execution_count": 15,
   "metadata": {},
   "outputs": [
    {
     "data": {
      "text/plain": [
       "(643, 4)"
      ]
     },
     "execution_count": 15,
     "metadata": {},
     "output_type": "execute_result"
    }
   ],
   "source": [
    "features_test.shape"
   ]
  },
  {
   "cell_type": "markdown",
   "metadata": {},
   "source": [
    "## Исследуйте модели"
   ]
  },
  {
   "cell_type": "markdown",
   "metadata": {},
   "source": [
    "### Дерево решений\n",
    "\n",
    "Подберем гиперпараметры с помощью функции GridSearchCV "
   ]
  },
  {
   "cell_type": "code",
   "execution_count": 17,
   "metadata": {},
   "outputs": [
    {
     "name": "stdout",
     "output_type": "stream",
     "text": [
      "Точность наилучшей модели 0.8024132069056703\n",
      "Критерий качества разбиения на классы gini\n",
      "Глубина дерева решений 6\n",
      "Колличество выборок для разделения 3\n",
      "Колличество выборок в листе 9\n"
     ]
    }
   ],
   "source": [
    "# Создаём словарь и вносим гиперпараметры для DecisionTree, которые будем прогонять\n",
    "# criterion gini - критерий, показывающий меру сходства наборов данных\n",
    "# criterion entropy - критерий неоднородности наборов данных\n",
    "# max_depth - максимальная глубина дерева решений, она будет изменяться от 1 до 15\n",
    "# min_samples_split - минимальное количество образцов для сплита, оно будет изменяться от 3 до 12 с шагом 3 \n",
    "# min_samples_leaf - минимальное количество образцов в листах, оно будет изменяться от 1 до 10\n",
    "\n",
    "parametrs = {\n",
    "    'criterion' : ['gini', 'entropy'],\n",
    "    'max_depth' : range(1, 15),\n",
    "    'min_samples_split' : range(3, 12, 3),\n",
    "    'min_samples_leaf' : range(1, 10)\n",
    "}\n",
    "# Объявляем классификатор DecisionTree\n",
    "tree_m = DecisionTreeClassifier(random_state=12345)\n",
    "\n",
    "# Запускаем обучение\n",
    "grid = GridSearchCV(estimator = tree_m, param_grid = parametrs, cv = 5)\n",
    "grid.fit(features_train, target_train)\n",
    "\n",
    "# Выводим accuracy и наилучшие варианты гиперпараметров \n",
    "print('Точность наилучшей модели', grid.best_score_)\n",
    "print('Критерий качества разбиения на классы', grid.best_params_['criterion'])\n",
    "print('Глубина дерева решений', grid.best_params_['max_depth'])\n",
    "print('Колличество выборок для разделения', grid.best_params_['min_samples_split'])\n",
    "print('Колличество выборок в листе', grid.best_params_['min_samples_leaf'])\n"
   ]
  },
  {
   "cell_type": "markdown",
   "metadata": {},
   "source": [
    "### Случайный лес\n",
    "\n",
    "Подберем гиперпараметры с помощью функции GridSearchCV "
   ]
  },
  {
   "cell_type": "code",
   "execution_count": 18,
   "metadata": {},
   "outputs": [
    {
     "name": "stdout",
     "output_type": "stream",
     "text": [
      "Точность наилучшей модели 0.8101990857919988\n",
      "Колличество деревьев 30\n",
      "Критерий качества разбиения на классы gini\n",
      "Глубина дерева решений 10\n",
      "Колличество выборок для разделения 3\n",
      "Колличество выборок в листе 5\n"
     ]
    }
   ],
   "source": [
    "# Создаём словарь и вносим гиперпараметры для RandomForest, которые будем прогонять\n",
    "# n_estimators - \n",
    "# criterion gini - критерий, показывающий меру сходства наборов данных\n",
    "# criterion entropy - критерий неоднородности наборов данных\n",
    "# max_depth - максимальная глубина дерева решений, она будет изменяться от 1 до 15\n",
    "# min_samples_split - минимальное количество образцов для сплита, оно будет изменяться от 3 до 12 с шагом 3 \n",
    "# min_samples_leaf - минимальное количество образцов в листах, оно будет изменяться от 1 до 10\n",
    "\n",
    "parametrs = {\n",
    "    'n_estimators': [5, 30, 5],\n",
    "    'criterion' : ['gini', 'entropy'],\n",
    "    'max_depth' : range(1, 15),\n",
    "    'min_samples_split' : range(3, 12, 3),\n",
    "    'min_samples_leaf' : range(1, 10)\n",
    "}\n",
    "\n",
    "# Объявляем классификатор RandomForest\n",
    "forest_m = RandomForestClassifier(random_state=12345)\n",
    "\n",
    "# Запускаем обучение\n",
    "grid = GridSearchCV(estimator = forest_m, param_grid = parametrs, cv = 5)\n",
    "grid.fit(features_train, target_train)\n",
    "\n",
    "# Выводим accuracy и наилучшие варианты гиперпараметров \n",
    "print('Точность наилучшей модели', grid.best_score_)\n",
    "print('Колличество деревьев', grid.best_params_['n_estimators'])\n",
    "print('Критерий качества разбиения на классы', grid.best_params_['criterion'])\n",
    "print('Глубина дерева решений', grid.best_params_['max_depth'])\n",
    "print('Колличество выборок для разделения', grid.best_params_['min_samples_split'])\n",
    "print('Колличество выборок в листе', grid.best_params_['min_samples_leaf'])\n"
   ]
  },
  {
   "cell_type": "markdown",
   "metadata": {},
   "source": [
    "### Логистическая регрессия\n",
    "\n",
    "Подберем гиперпараметры с помощью функции GridSearchCV "
   ]
  },
  {
   "cell_type": "code",
   "execution_count": 19,
   "metadata": {},
   "outputs": [
    {
     "name": "stdout",
     "output_type": "stream",
     "text": [
      "Лучший алгоритм оптимизации: newton-cg\n",
      "Лучшее значение С: 0.01\n",
      "Доля верных прогнозов: 0.7433903576982893\n"
     ]
    }
   ],
   "source": [
    "# Создаём словарь и вносим гиперпараметры для LogisticRegression, которые будем прогонять\n",
    "# solver - параметр, который помогает выбрать алгоритм, который будет строить модель\n",
    "# C - параметр отвечающий за разброс данных, чтобы модель не переобучалась\n",
    "parametrs = {\n",
    "    'solver' : ['lbfgs', 'liblinear', 'sag', 'newton-cg'],\n",
    "    'C' : [0.01, 0.1, 1, 10]\n",
    "}\n",
    "\n",
    "# Объявляем классификатор LogisticRegression\n",
    "logistic_m = LogisticRegression(penalty = 'l2', random_state = 12345, max_iter = 10000)\n",
    "\n",
    "# Запускаем обучение\n",
    "grid = GridSearchCV(estimator = logistic_m, param_grid = parametrs, cv = 5)\n",
    "grid.fit(features_train, target_train)\n",
    "best_model = grid.best_estimator_\n",
    "accuracy_logistic_m = best_model.score(features_test, target_test)\n",
    "\n",
    "# Выводим наилучшие варианты гиперпараметров \n",
    "print('Лучший алгоритм оптимизации:', best_model.get_params()['solver'])\n",
    "print('Лучшее значение С:', best_model.get_params()['C'])\n",
    "print('Доля верных прогнозов:', accuracy_logistic_m)\n"
   ]
  },
  {
   "cell_type": "markdown",
   "metadata": {},
   "source": [
    "## Проверьте модель на тестовой выборке"
   ]
  },
  {
   "cell_type": "code",
   "execution_count": 20,
   "metadata": {},
   "outputs": [
    {
     "name": "stdout",
     "output_type": "stream",
     "text": [
      "Точность лучшей модели случайного леса в тестовой выборке: 0.8164852255054432\n"
     ]
    }
   ],
   "source": [
    "# Создаём модель случайного леса\n",
    "forest_m = RandomForestClassifier(n_estimators = 30, max_depth = 10, min_samples_split = 3,\n",
    "                                  min_samples_leaf = 5, random_state=12345)\n",
    "# Обучаем модель\n",
    "forest_m.fit(features_train, target_train)\n",
    "\n",
    "# Рассчитаем точнось лучшей модели случайного леса в тестовой выборке\n",
    "accuracy_forest_test = forest_m.score(features_test, target_test)\n",
    "\n",
    "print('Точность лучшей модели случайного леса в тестовой выборке:', accuracy_forest_test)"
   ]
  },
  {
   "cell_type": "markdown",
   "metadata": {},
   "source": [
    "## (бонус) Проверьте модели на адекватность\n",
    "\n",
    "Проверим нашу модель с помощью DummyClassifier. Сравним как можель обучилась на наших данных с тем, как бы она вела себя без обучения. Если показатели Dummy будут ниже, чем у нашей лучшей обученной модели, значит мы достигли поставленной задачи."
   ]
  },
  {
   "cell_type": "code",
   "execution_count": 23,
   "metadata": {},
   "outputs": [
    {
     "name": "stdout",
     "output_type": "stream",
     "text": [
      "Доля верных прогнозов ложной модели при strategy = most_frequent 0.6936236391912908\n",
      "Доля верных прогнозов ложной модели при strategy = stratified 0.578538102643857\n",
      "Доля верных прогнозов ложной модели при strategy = prior 0.6936236391912908\n",
      "Доля верных прогнозов ложной модели при strategy = uniform 0.4821150855365474\n",
      "____________________________________________________________________________________________________\n",
      "Доля верных прогнозов наилучшей модели случайного леса в тестовой выборке: 0.8164852255054432\n"
     ]
    }
   ],
   "source": [
    "strategy = ['most_frequent', 'stratified', 'prior', 'uniform']\n",
    "\n",
    "for i in strategy:\n",
    "    dmc = DummyClassifier(strategy = i, random_state = 12345)\n",
    "    score = dmc.fit(features_train, target_train).score(features_test, target_test)\n",
    "    print('Доля верных прогнозов ложной модели при strategy =', i, score)\n",
    "\n",
    "print('_' * 100)   \n",
    "print('Доля верных прогнозов наилучшей модели случайного леса в тестовой выборке:', accuracy_forest_test)"
   ]
  },
  {
   "cell_type": "markdown",
   "metadata": {},
   "source": [
    "### Итоги выполненной работы:\n",
    "\n",
    "1. Мы изучили данные чтобы разделить их на выборке, а так же обнаружили дисбаланс в соотношении.\n",
    "\n",
    "2. Использовали модуль GridSearchCV для автоматического подбирания параметров для модулей машинного обучения. Применили кросс - валидацию. Она берет обучающую выборку и делит валидационную на несколько слоёв. Разделили выборку на 2 части: 80% и 20%.\n",
    "\n",
    "3. Исследовали 3 модели: дерево решений, случайный лес и логистическую регрессию. Сделали вывод, что лучшие результаты у наилучшей модели случайного леса: точность наилучшей модели 0.8101990857919988.\n",
    "\n",
    "4. Проверили наилучшую модель случайного леса на тестовой выборке и получили точность 0.8164852255054432\n",
    "\n",
    "5. Выполнили проверку наилучшей модели случайного леса на адекватность. Доля верных прогнозов для нашей модели значительно выше прогнозов ложной модели, следовательно наше модель работает правильно и соответсвует требования заказчика.\n",
    "\n",
    "### Вывод\n",
    "Наиболее адекватные предсказания делает модель Random Forest (случайный лес). Это подтверждается точностью предсказаний на валидационной и тестовой выборке."
   ]
  }
 ],
 "metadata": {
  "ExecuteTimeLog": [
   {
    "duration": 406,
    "start_time": "2023-02-25T20:46:34.392Z"
   },
   {
    "duration": 32,
    "start_time": "2023-02-25T20:47:03.784Z"
   },
   {
    "duration": 42,
    "start_time": "2023-02-26T18:54:09.349Z"
   },
   {
    "duration": 787,
    "start_time": "2023-02-26T18:54:11.073Z"
   },
   {
    "duration": 11,
    "start_time": "2023-02-26T18:54:15.964Z"
   },
   {
    "duration": 841,
    "start_time": "2023-02-26T18:54:32.497Z"
   },
   {
    "duration": 10,
    "start_time": "2023-02-26T18:54:35.149Z"
   },
   {
    "duration": 35,
    "start_time": "2023-02-26T18:54:53.393Z"
   },
   {
    "duration": 42,
    "start_time": "2023-02-26T18:55:32.669Z"
   },
   {
    "duration": 43,
    "start_time": "2023-02-26T19:01:24.711Z"
   },
   {
    "duration": 11,
    "start_time": "2023-02-26T19:01:27.762Z"
   },
   {
    "duration": 44,
    "start_time": "2023-02-26T19:07:38.762Z"
   },
   {
    "duration": 12,
    "start_time": "2023-02-26T19:07:40.923Z"
   },
   {
    "duration": 5,
    "start_time": "2023-02-26T19:08:42.126Z"
   },
   {
    "duration": 5,
    "start_time": "2023-02-26T19:10:43.298Z"
   },
   {
    "duration": 5,
    "start_time": "2023-02-26T19:10:46.650Z"
   },
   {
    "duration": 24,
    "start_time": "2023-02-26T19:27:23.418Z"
   },
   {
    "duration": 4,
    "start_time": "2023-02-26T19:45:13.816Z"
   },
   {
    "duration": 36,
    "start_time": "2023-02-26T20:00:41.452Z"
   },
   {
    "duration": 11,
    "start_time": "2023-02-26T20:00:41.592Z"
   },
   {
    "duration": 4,
    "start_time": "2023-02-26T20:00:41.784Z"
   },
   {
    "duration": 6,
    "start_time": "2023-02-26T20:00:41.969Z"
   },
   {
    "duration": 4,
    "start_time": "2023-02-26T20:00:43.745Z"
   },
   {
    "duration": 7,
    "start_time": "2023-02-26T20:00:44.085Z"
   },
   {
    "duration": 52,
    "start_time": "2023-02-26T20:00:44.404Z"
   },
   {
    "duration": 17,
    "start_time": "2023-02-26T20:00:47.324Z"
   },
   {
    "duration": 3,
    "start_time": "2023-02-26T20:01:09.505Z"
   },
   {
    "duration": 6,
    "start_time": "2023-02-26T20:01:09.761Z"
   },
   {
    "duration": 5,
    "start_time": "2023-02-26T20:01:10.925Z"
   },
   {
    "duration": 12,
    "start_time": "2023-02-26T20:01:11.905Z"
   },
   {
    "duration": 5,
    "start_time": "2023-02-26T20:01:50.277Z"
   },
   {
    "duration": 7,
    "start_time": "2023-02-26T20:02:40.732Z"
   },
   {
    "duration": 6,
    "start_time": "2023-02-26T20:09:01.355Z"
   },
   {
    "duration": 5,
    "start_time": "2023-02-26T20:09:01.668Z"
   },
   {
    "duration": 8,
    "start_time": "2023-02-26T20:09:56.056Z"
   },
   {
    "duration": 4,
    "start_time": "2023-02-26T20:10:23.800Z"
   },
   {
    "duration": 4,
    "start_time": "2023-02-26T20:10:41.436Z"
   },
   {
    "duration": 4,
    "start_time": "2023-02-26T20:10:55.712Z"
   },
   {
    "duration": 1743,
    "start_time": "2023-02-27T17:48:37.830Z"
   },
   {
    "duration": 12,
    "start_time": "2023-02-27T17:48:39.575Z"
   },
   {
    "duration": 7,
    "start_time": "2023-02-27T17:48:39.589Z"
   },
   {
    "duration": 10,
    "start_time": "2023-02-27T17:48:39.598Z"
   },
   {
    "duration": 6,
    "start_time": "2023-02-27T17:50:51.899Z"
   },
   {
    "duration": 10,
    "start_time": "2023-02-27T17:50:52.770Z"
   },
   {
    "duration": 5,
    "start_time": "2023-02-27T17:50:56.203Z"
   },
   {
    "duration": 3,
    "start_time": "2023-02-27T17:50:56.563Z"
   },
   {
    "duration": 3,
    "start_time": "2023-02-27T17:50:56.755Z"
   },
   {
    "duration": 3,
    "start_time": "2023-02-27T17:50:56.915Z"
   },
   {
    "duration": 10,
    "start_time": "2023-02-27T17:50:58.879Z"
   },
   {
    "duration": 5,
    "start_time": "2023-02-27T17:50:59.530Z"
   },
   {
    "duration": 8,
    "start_time": "2023-02-27T17:51:00.083Z"
   },
   {
    "duration": 130,
    "start_time": "2023-02-27T20:41:20.110Z"
   },
   {
    "duration": 4641,
    "start_time": "2023-02-27T20:41:36.182Z"
   },
   {
    "duration": 43,
    "start_time": "2023-02-27T20:41:46.863Z"
   },
   {
    "duration": 11,
    "start_time": "2023-02-27T20:41:47.042Z"
   },
   {
    "duration": 4,
    "start_time": "2023-02-27T20:41:47.226Z"
   },
   {
    "duration": 7,
    "start_time": "2023-02-27T20:41:47.410Z"
   },
   {
    "duration": 5,
    "start_time": "2023-02-27T20:41:48.547Z"
   },
   {
    "duration": 3,
    "start_time": "2023-02-27T20:41:48.906Z"
   },
   {
    "duration": 3,
    "start_time": "2023-02-27T20:41:49.114Z"
   },
   {
    "duration": 2,
    "start_time": "2023-02-27T20:41:49.282Z"
   },
   {
    "duration": 7,
    "start_time": "2023-02-27T20:41:49.666Z"
   },
   {
    "duration": 4,
    "start_time": "2023-02-27T20:41:50.146Z"
   },
   {
    "duration": 12,
    "start_time": "2023-02-27T20:41:50.515Z"
   },
   {
    "duration": 2,
    "start_time": "2023-02-27T20:41:51.018Z"
   },
   {
    "duration": 4713,
    "start_time": "2023-02-27T20:41:52.492Z"
   },
   {
    "duration": 3,
    "start_time": "2023-02-27T20:42:40.754Z"
   },
   {
    "duration": 6,
    "start_time": "2023-02-27T20:42:41.148Z"
   },
   {
    "duration": 4,
    "start_time": "2023-02-27T20:42:41.346Z"
   },
   {
    "duration": 4,
    "start_time": "2023-02-27T20:42:41.530Z"
   },
   {
    "duration": 3,
    "start_time": "2023-02-27T20:42:41.730Z"
   },
   {
    "duration": 4839,
    "start_time": "2023-02-27T20:42:42.986Z"
   },
   {
    "duration": 20,
    "start_time": "2023-02-27T20:43:06.763Z"
   },
   {
    "duration": 4559,
    "start_time": "2023-02-27T20:43:18.290Z"
   },
   {
    "duration": 4826,
    "start_time": "2023-02-27T20:43:23.738Z"
   },
   {
    "duration": 16,
    "start_time": "2023-02-27T20:43:56.859Z"
   },
   {
    "duration": 46,
    "start_time": "2023-02-27T20:45:25.323Z"
   },
   {
    "duration": 14,
    "start_time": "2023-02-27T20:45:41.354Z"
   },
   {
    "duration": 1350,
    "start_time": "2023-02-27T20:46:32.404Z"
   },
   {
    "duration": 10,
    "start_time": "2023-02-27T20:46:33.756Z"
   },
   {
    "duration": 16,
    "start_time": "2023-02-27T20:46:33.767Z"
   },
   {
    "duration": 29,
    "start_time": "2023-02-27T20:46:33.785Z"
   },
   {
    "duration": 20,
    "start_time": "2023-02-27T20:46:34.660Z"
   },
   {
    "duration": 11,
    "start_time": "2023-02-27T20:46:34.835Z"
   },
   {
    "duration": 4,
    "start_time": "2023-02-27T20:46:35.006Z"
   },
   {
    "duration": 6,
    "start_time": "2023-02-27T20:46:35.191Z"
   },
   {
    "duration": 3,
    "start_time": "2023-02-27T20:46:35.744Z"
   },
   {
    "duration": 2,
    "start_time": "2023-02-27T20:46:36.068Z"
   },
   {
    "duration": 2,
    "start_time": "2023-02-27T20:46:36.236Z"
   },
   {
    "duration": 5,
    "start_time": "2023-02-27T20:46:36.416Z"
   },
   {
    "duration": 6,
    "start_time": "2023-02-27T20:46:37.272Z"
   },
   {
    "duration": 4,
    "start_time": "2023-02-27T20:46:37.580Z"
   },
   {
    "duration": 3,
    "start_time": "2023-02-27T20:46:37.976Z"
   },
   {
    "duration": 3,
    "start_time": "2023-02-27T20:46:38.404Z"
   },
   {
    "duration": 116,
    "start_time": "2023-02-27T20:46:39.192Z"
   },
   {
    "duration": 14,
    "start_time": "2023-02-27T20:46:40.648Z"
   },
   {
    "duration": 14,
    "start_time": "2023-02-27T20:48:18.024Z"
   },
   {
    "duration": 15,
    "start_time": "2023-02-27T20:48:18.484Z"
   },
   {
    "duration": 15,
    "start_time": "2023-02-27T20:48:20.688Z"
   },
   {
    "duration": 4836,
    "start_time": "2023-02-27T20:49:19.472Z"
   },
   {
    "duration": 42,
    "start_time": "2023-02-27T20:53:24.849Z"
   },
   {
    "duration": 41,
    "start_time": "2023-02-27T20:53:26.396Z"
   },
   {
    "duration": 14,
    "start_time": "2023-02-27T20:53:26.538Z"
   },
   {
    "duration": 5,
    "start_time": "2023-02-27T20:53:26.713Z"
   },
   {
    "duration": 8,
    "start_time": "2023-02-27T20:53:26.890Z"
   },
   {
    "duration": 3,
    "start_time": "2023-02-27T20:53:27.386Z"
   },
   {
    "duration": 2,
    "start_time": "2023-02-27T20:53:27.532Z"
   },
   {
    "duration": 3,
    "start_time": "2023-02-27T20:53:27.707Z"
   },
   {
    "duration": 5,
    "start_time": "2023-02-27T20:53:27.867Z"
   },
   {
    "duration": 7,
    "start_time": "2023-02-27T20:53:28.251Z"
   },
   {
    "duration": 4,
    "start_time": "2023-02-27T20:53:28.441Z"
   },
   {
    "duration": 4,
    "start_time": "2023-02-27T20:53:28.650Z"
   },
   {
    "duration": 2,
    "start_time": "2023-02-27T20:53:29.065Z"
   },
   {
    "duration": 14,
    "start_time": "2023-02-27T20:53:30.148Z"
   },
   {
    "duration": 14,
    "start_time": "2023-02-27T20:53:32.465Z"
   },
   {
    "duration": 32,
    "start_time": "2023-02-27T20:59:01.978Z"
   },
   {
    "duration": 13,
    "start_time": "2023-02-27T20:59:19.006Z"
   },
   {
    "duration": 14,
    "start_time": "2023-02-27T21:01:27.802Z"
   },
   {
    "duration": 33427,
    "start_time": "2023-02-27T21:01:41.946Z"
   },
   {
    "duration": 393659,
    "start_time": "2023-02-27T21:02:34.455Z"
   },
   {
    "duration": 2899,
    "start_time": "2023-02-27T21:09:08.116Z"
   },
   {
    "duration": 2621,
    "start_time": "2023-02-27T21:18:04.584Z"
   },
   {
    "duration": 2890,
    "start_time": "2023-02-27T21:20:06.215Z"
   },
   {
    "duration": 2689,
    "start_time": "2023-02-27T21:20:27.024Z"
   },
   {
    "duration": 23,
    "start_time": "2023-02-27T21:21:03.444Z"
   },
   {
    "duration": 27,
    "start_time": "2023-02-27T21:21:30.243Z"
   },
   {
    "duration": 22,
    "start_time": "2023-02-27T21:21:33.524Z"
   },
   {
    "duration": 23,
    "start_time": "2023-02-27T21:23:20.005Z"
   },
   {
    "duration": 22,
    "start_time": "2023-02-27T21:25:50.060Z"
   },
   {
    "duration": 21,
    "start_time": "2023-02-27T21:28:13.800Z"
   },
   {
    "duration": 1408,
    "start_time": "2023-02-27T21:44:06.760Z"
   },
   {
    "duration": 11,
    "start_time": "2023-02-27T21:44:08.169Z"
   },
   {
    "duration": 6,
    "start_time": "2023-02-27T21:44:08.182Z"
   },
   {
    "duration": 8,
    "start_time": "2023-02-27T21:44:08.190Z"
   },
   {
    "duration": 2,
    "start_time": "2023-02-27T21:44:08.199Z"
   },
   {
    "duration": 7,
    "start_time": "2023-02-27T21:44:08.203Z"
   },
   {
    "duration": 8,
    "start_time": "2023-02-27T21:44:08.211Z"
   },
   {
    "duration": 4,
    "start_time": "2023-02-27T21:44:08.374Z"
   },
   {
    "duration": 7,
    "start_time": "2023-02-27T21:44:08.811Z"
   },
   {
    "duration": 4,
    "start_time": "2023-02-27T21:44:09.028Z"
   },
   {
    "duration": 4,
    "start_time": "2023-02-27T21:44:09.236Z"
   },
   {
    "duration": 2,
    "start_time": "2023-02-27T21:44:09.435Z"
   },
   {
    "duration": 33137,
    "start_time": "2023-02-27T21:44:10.733Z"
   },
   {
    "duration": 494785,
    "start_time": "2023-02-27T21:47:29.392Z"
   },
   {
    "duration": 122,
    "start_time": "2023-02-27T22:05:57.661Z"
   },
   {
    "duration": 17545,
    "start_time": "2023-02-27T22:06:46.861Z"
   },
   {
    "duration": 18662,
    "start_time": "2023-02-27T22:07:18.948Z"
   },
   {
    "duration": 10,
    "start_time": "2023-02-27T22:37:21.977Z"
   },
   {
    "duration": 127,
    "start_time": "2023-02-27T22:37:52.523Z"
   },
   {
    "duration": 10,
    "start_time": "2023-02-27T22:46:27.266Z"
   },
   {
    "duration": 41,
    "start_time": "2023-02-27T22:47:07.276Z"
   },
   {
    "duration": 10,
    "start_time": "2023-02-27T22:47:07.431Z"
   },
   {
    "duration": 4,
    "start_time": "2023-02-27T22:47:07.624Z"
   },
   {
    "duration": 7,
    "start_time": "2023-02-27T22:47:07.800Z"
   },
   {
    "duration": 2,
    "start_time": "2023-02-27T22:47:08.328Z"
   },
   {
    "duration": 2,
    "start_time": "2023-02-27T22:47:08.580Z"
   },
   {
    "duration": 3,
    "start_time": "2023-02-27T22:47:08.773Z"
   },
   {
    "duration": 4,
    "start_time": "2023-02-27T22:47:08.974Z"
   },
   {
    "duration": 6,
    "start_time": "2023-02-27T22:47:09.320Z"
   },
   {
    "duration": 4,
    "start_time": "2023-02-27T22:47:09.551Z"
   },
   {
    "duration": 4,
    "start_time": "2023-02-27T22:47:09.776Z"
   },
   {
    "duration": 3,
    "start_time": "2023-02-27T22:47:10.023Z"
   },
   {
    "duration": 12013,
    "start_time": "2023-02-27T22:47:10.713Z"
   },
   {
    "duration": 0,
    "start_time": "2023-02-27T22:47:22.728Z"
   },
   {
    "duration": 0,
    "start_time": "2023-02-27T22:47:22.729Z"
   },
   {
    "duration": 0,
    "start_time": "2023-02-27T22:47:22.730Z"
   },
   {
    "duration": 0,
    "start_time": "2023-02-27T22:47:22.731Z"
   },
   {
    "duration": 1373,
    "start_time": "2023-02-27T22:47:30.020Z"
   },
   {
    "duration": 12,
    "start_time": "2023-02-27T22:47:31.395Z"
   },
   {
    "duration": 15,
    "start_time": "2023-02-27T22:47:31.409Z"
   },
   {
    "duration": 30,
    "start_time": "2023-02-27T22:47:31.426Z"
   },
   {
    "duration": 32,
    "start_time": "2023-02-27T22:47:31.458Z"
   },
   {
    "duration": 38,
    "start_time": "2023-02-27T22:47:31.492Z"
   },
   {
    "duration": 37,
    "start_time": "2023-02-27T22:47:31.531Z"
   },
   {
    "duration": 24,
    "start_time": "2023-02-27T22:47:31.570Z"
   },
   {
    "duration": 6,
    "start_time": "2023-02-27T22:47:31.872Z"
   },
   {
    "duration": 4,
    "start_time": "2023-02-27T22:47:32.192Z"
   },
   {
    "duration": 4,
    "start_time": "2023-02-27T22:47:32.464Z"
   },
   {
    "duration": 2,
    "start_time": "2023-02-27T22:47:32.904Z"
   },
   {
    "duration": 32753,
    "start_time": "2023-02-27T22:47:34.112Z"
   },
   {
    "duration": 1366,
    "start_time": "2023-02-27T22:54:08.433Z"
   },
   {
    "duration": 10,
    "start_time": "2023-02-27T22:54:09.801Z"
   },
   {
    "duration": 16,
    "start_time": "2023-02-27T22:54:09.813Z"
   },
   {
    "duration": 12,
    "start_time": "2023-02-27T22:54:09.831Z"
   },
   {
    "duration": 9,
    "start_time": "2023-02-27T22:54:09.844Z"
   },
   {
    "duration": 26,
    "start_time": "2023-02-27T22:54:09.854Z"
   },
   {
    "duration": 3,
    "start_time": "2023-02-27T22:54:09.916Z"
   },
   {
    "duration": 5,
    "start_time": "2023-02-27T22:54:10.328Z"
   },
   {
    "duration": 7,
    "start_time": "2023-02-27T22:54:10.736Z"
   },
   {
    "duration": 4,
    "start_time": "2023-02-27T22:54:10.944Z"
   },
   {
    "duration": 3,
    "start_time": "2023-02-27T22:54:11.132Z"
   },
   {
    "duration": 2,
    "start_time": "2023-02-27T22:54:11.652Z"
   },
   {
    "duration": 33174,
    "start_time": "2023-02-27T22:54:12.968Z"
   },
   {
    "duration": 487403,
    "start_time": "2023-02-27T23:01:23.225Z"
   },
   {
    "duration": 13387,
    "start_time": "2023-02-27T23:15:29.619Z"
   },
   {
    "duration": 117,
    "start_time": "2023-02-27T23:24:22.089Z"
   },
   {
    "duration": 120,
    "start_time": "2023-02-27T23:24:24.936Z"
   },
   {
    "duration": 104,
    "start_time": "2023-02-27T23:24:26.093Z"
   },
   {
    "duration": 17,
    "start_time": "2023-02-27T23:25:09.500Z"
   },
   {
    "duration": 18,
    "start_time": "2023-02-27T23:25:52.655Z"
   },
   {
    "duration": 16,
    "start_time": "2023-02-27T23:26:16.229Z"
   },
   {
    "duration": 16,
    "start_time": "2023-02-27T23:26:28.229Z"
   },
   {
    "duration": 11,
    "start_time": "2023-02-27T23:27:37.941Z"
   },
   {
    "duration": 11,
    "start_time": "2023-02-27T23:27:43.266Z"
   },
   {
    "duration": 51,
    "start_time": "2023-02-27T23:27:54.475Z"
   },
   {
    "duration": 10,
    "start_time": "2023-02-27T23:28:00.510Z"
   },
   {
    "duration": 12,
    "start_time": "2023-02-27T23:28:06.281Z"
   },
   {
    "duration": 1592,
    "start_time": "2023-03-02T18:32:02.435Z"
   },
   {
    "duration": 11,
    "start_time": "2023-03-02T18:32:04.029Z"
   },
   {
    "duration": 10,
    "start_time": "2023-03-02T18:32:04.042Z"
   },
   {
    "duration": 18,
    "start_time": "2023-03-02T18:32:04.054Z"
   },
   {
    "duration": 18,
    "start_time": "2023-03-02T18:32:04.073Z"
   },
   {
    "duration": 9,
    "start_time": "2023-03-02T18:32:04.092Z"
   },
   {
    "duration": 2,
    "start_time": "2023-03-02T18:32:04.444Z"
   },
   {
    "duration": 4,
    "start_time": "2023-03-02T18:32:04.640Z"
   },
   {
    "duration": 2,
    "start_time": "2023-03-02T18:32:11.640Z"
   },
   {
    "duration": 2,
    "start_time": "2023-03-02T18:32:11.799Z"
   },
   {
    "duration": 2,
    "start_time": "2023-03-02T18:32:11.991Z"
   },
   {
    "duration": 4,
    "start_time": "2023-03-02T18:32:12.175Z"
   },
   {
    "duration": 7,
    "start_time": "2023-03-02T18:32:13.135Z"
   },
   {
    "duration": 3,
    "start_time": "2023-03-02T18:32:13.542Z"
   },
   {
    "duration": 4,
    "start_time": "2023-03-02T18:32:14.040Z"
   },
   {
    "duration": 2,
    "start_time": "2023-03-02T18:32:14.479Z"
   },
   {
    "duration": 31716,
    "start_time": "2023-03-02T18:32:15.843Z"
   },
   {
    "duration": 474770,
    "start_time": "2023-03-02T18:35:43.407Z"
   },
   {
    "duration": 12836,
    "start_time": "2023-03-02T18:43:38.178Z"
   },
   {
    "duration": 115,
    "start_time": "2023-03-02T19:05:30.872Z"
   },
   {
    "duration": 10,
    "start_time": "2023-03-02T19:05:32.868Z"
   },
   {
    "duration": 4,
    "start_time": "2023-03-02T19:09:01.668Z"
   },
   {
    "duration": 15,
    "start_time": "2023-03-02T23:03:10.333Z"
   }
  ],
  "kernelspec": {
   "display_name": "Python 3 (ipykernel)",
   "language": "python",
   "name": "python3"
  },
  "language_info": {
   "codemirror_mode": {
    "name": "ipython",
    "version": 3
   },
   "file_extension": ".py",
   "mimetype": "text/x-python",
   "name": "python",
   "nbconvert_exporter": "python",
   "pygments_lexer": "ipython3",
   "version": "3.9.13"
  },
  "toc": {
   "base_numbering": 1,
   "nav_menu": {},
   "number_sections": true,
   "sideBar": true,
   "skip_h1_title": true,
   "title_cell": "Table of Contents",
   "title_sidebar": "Contents",
   "toc_cell": false,
   "toc_position": {},
   "toc_section_display": true,
   "toc_window_display": false
  }
 },
 "nbformat": 4,
 "nbformat_minor": 2
}
